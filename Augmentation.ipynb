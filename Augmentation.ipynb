{
 "cells": [
  {
   "cell_type": "code",
   "execution_count": 1,
   "metadata": {},
   "outputs": [],
   "source": [
    "import xml.etree.ElementTree as ET\n",
    "import cv2\n",
    "import numpy as np\n",
    "import os\n",
    "import matplotlib.pyplot as plt\n",
    "\n",
    "class Augmentation():\n",
    "    '''\n",
    "    Input format:\n",
    "        image : list of image\n",
    "        xml : list of xml\n",
    "        classes : list of class name, ex : [coating_Particle, Mask, ...]\n",
    "        imPath : path for saving new images\n",
    "        xmlPath : path for saving new xmls\n",
    "        saveName : New images and xmls file name\n",
    "    '''    \n",
    "    def __init__(self, image, xml, classes, saveName, imPath, xmlPath):\n",
    "        self.image = image\n",
    "        self.xml = xml\n",
    "        self.classes = classes\n",
    "        self.saveName = saveName\n",
    "        self.imPath = imPath\n",
    "        self.xmlPath = xmlPath\n",
    "        \n",
    "    def _saveImage(self, image, fileName):\n",
    "        Suffix = '.jpg'\n",
    "        Path = os.path.join(self.imPath, fileName + Suffix)\n",
    "        success = cv2.imwrite(Path, image)\n",
    "        if not success:\n",
    "            raise Exception('Image Saving Error! Please check your image or save dir.')\n",
    "            \n",
    "    def _saveXML(self, xml, fileName):\n",
    "        Suffix = '.xml'\n",
    "        Path = os.path.join(self.xmlPath, fileName + Suffix)\n",
    "        xml.write(Path)\n",
    "    \n",
    "\n",
    "    def _XmlInfo(self, tree):\n",
    "        root = tree.getroot()\n",
    "        boxSet = []\n",
    "        if root.find('size'):\n",
    "            size = root.find('size')\n",
    "            w = int(size.find('width').text)    \n",
    "            h = int(size.find('height').text)   \n",
    "\n",
    "            for obj in root.iter('object'):\n",
    "\n",
    "                difficult = obj.find('difficult').text\n",
    "                cls = obj.find('name').text\n",
    "\n",
    "                if cls not in self.classes or int(difficult)==1:\n",
    "                    continue\n",
    "                cls_id = self.classes.index(cls)\n",
    "                xmlbox = obj.find('bndbox')\n",
    "       \n",
    "                b = [float(xmlbox.find('xmin').text), float(xmlbox.find('xmax').text), float(xmlbox.find('ymin').text), float(xmlbox.find('ymax').text)]\n",
    "                boxSet.append(b)\n",
    "        return boxSet\n",
    "    \n",
    "    def _checkBox(self, w, h, box, new):\n",
    "        if new[0] < 0:\n",
    "            new[0] = 0\n",
    "        if new[1] >= w:\n",
    "            new[1] = w - 1\n",
    "        if new[2] < 0:\n",
    "            new[2] = 0\n",
    "        if new[3] >= h:\n",
    "            new[3] = h - 1\n",
    "        boxArea = (box[3] - box[2]) * (box[1] - box[0])\n",
    "        newArea = (new[3] - new[2]) * (new[1] - new[0])\n",
    "        if newArea / boxArea < 0.3 :\n",
    "            new = [-1 for i in new]\n",
    "        return new\n",
    "        \n",
    "    def _makeXml(self, tree, box):\n",
    "        root = tree.getroot()\n",
    "        if root.find('size'):\n",
    "            for (obj, b) in zip(root.iter('object'), box):\n",
    "                difficult = obj.find('difficult').text\n",
    "                cls = obj.find('name').text\n",
    "\n",
    "                if cls not in self.classes or int(difficult)==1:\n",
    "                    continue\n",
    "                \n",
    "                cls_id = self.classes.index(cls)\n",
    "                xmlbox = obj.find('bndbox')\n",
    "                xmlbox.find('xmin').text = str(b[0])\n",
    "                xmlbox.find('xmax').text = str(b[1])\n",
    "                xmlbox.find('ymin').text = str(b[2])\n",
    "                xmlbox.find('ymax').text = str(b[3])\n",
    "            for obj in root.findall('object'):\n",
    "                box = obj.find('bndbox')\n",
    "                flag = float(box.find('xmin').text)\n",
    "                if flag < 0:\n",
    "                    root.remove(obj)                  \n",
    "        return tree\n",
    "    \n",
    "    def _Reflect(self, image, xml, dim, fileName):\n",
    "        h, w, _ = image.shape\n",
    "        image = cv2.flip(image, dim)\n",
    "        self._saveImage(image, fileName)\n",
    "        boxSet = self._XmlInfo(xml)\n",
    "        if dim == 0:\n",
    "            for box in boxSet:\n",
    "                newYmin = h - box[3]\n",
    "                newYmax = h - box[2]\n",
    "                box[2] = newYmin\n",
    "                box[3] = newYmax\n",
    "        elif dim == 1:\n",
    "            for box in boxSet:\n",
    "                newXmin = w - box[1]\n",
    "                newXmax = w - box[0]\n",
    "                box[0] = newXmin\n",
    "                box[1] = newXmax\n",
    "        elif dim == -1:\n",
    "            for box in boxSet:\n",
    "                newXmin = w - box[1]\n",
    "                newXmax = w - box[0]\n",
    "                newYmin = h - box[3]\n",
    "                newYmax = h - box[2]\n",
    "                box[0] = newXmin\n",
    "                box[1] = newXmax\n",
    "                box[2] = newYmin\n",
    "                box[3] = newYmax\n",
    "        else:\n",
    "            raise Exception(\"The parameter dim must be -1, 0 or 1!\")\n",
    "        xml = self._makeXml(xml, boxSet)\n",
    "        self._saveXML(xml, fileName)\n",
    "        return True\n",
    "    \n",
    "    def _Translate(self, x, y, image, xml, fileName):\n",
    "        h, w, _ = image.shape\n",
    "        if abs(x) > w or abs(y) > h:\n",
    "            raise Exception(\"|x| and |y| must lower than w and y respectively.\")\n",
    "        M = np.float32([[1, 0, x],[0, 1, y]])\n",
    "        image = cv2.warpAffine(image, M, (w, h))\n",
    "        self._saveImage(image, fileName)\n",
    "        boxSet = self._XmlInfo(xml)\n",
    "        for box in boxSet:\n",
    "            newXmin, newXmax = box[0] + x, box[1] + x\n",
    "            newYmin, newYmax = box[2] + y, box[3] + y\n",
    "            new = [newXmin, newXmax, newYmin, newYmax]\n",
    "            new = self._checkBox(w, h, box, new)\n",
    "            box[0] = new[0]\n",
    "            box[1] = new[1]\n",
    "            box[2] = new[2]\n",
    "            box[3] = new[3]\n",
    "        xml = self._makeXml(xml, boxSet)\n",
    "        self._saveXML(xml, fileName)\n",
    "        return True\n",
    "         \n",
    "    def _check(self):\n",
    "        if len(self.image) != len(self.xml) or len(self.image) != len(self.saveName) or len(self.xml) != len(self.saveName):\n",
    "            raise Exception(\"Image, xml and saveName list must be the same size.\")\n",
    "\n",
    "    def reflect(self, dim):\n",
    "        '''\n",
    "        Usage:\n",
    "            reflect along x axis for dim = 0\n",
    "            reflect along y axis for dim = 1\n",
    "            reflect along both axis for dim = -1\n",
    "        '''\n",
    "        self._check()\n",
    "        for i in range(len(self.image)):\n",
    "            check = self._Reflect(self.image[i], self.xml[i], dim, self.saveName[i])\n",
    "            if not check:\n",
    "                raise Exception(\"Reflect Function Error When Transferring Image {}\".format(self.saveName[i]))\n",
    "    \n",
    "    def translate(self, x, y):\n",
    "        '''\n",
    "        Usage:\n",
    "            shift (x, y) pixels and padding with zeros\n",
    "        '''\n",
    "        self._check()\n",
    "\n",
    "        for i in range(len(self.image)):\n",
    "            check = self._Translate(x, y, self.image[i], self.xml[i], self.saveName[i])\n",
    "            if not check:\n",
    "                raise Exception(\"Translate Function Error When Transferring Image {}\".format(self.saveName[i]))\n"
   ]
  },
  {
   "cell_type": "code",
   "execution_count": 13,
   "metadata": {},
   "outputs": [],
   "source": [
    "def drawBox(image, box):\n",
    "    img = np.copy(image)\n",
    "    in_file = open(box, encoding='utf-8')\n",
    "    tree = ET.parse(in_file)\n",
    "    root = tree.getroot()\n",
    "    for obj in root.iter('object'):\n",
    "        box = obj.find('bndbox')     \n",
    "        xmin = int(float(box.find('xmin').text))\n",
    "        ymin = int(float(box.find('ymin').text))\n",
    "        xmax = int(float(box.find('xmax').text))\n",
    "        ymax = int(float(box.find('ymax').text))\n",
    "        img = cv2.rectangle(img, (xmin, ymin), (xmax, ymax), (255, 0, 0), 3)\n",
    "    return img"
   ]
  },
  {
   "cell_type": "markdown",
   "metadata": {},
   "source": [
    "# Tutorial - Reflect"
   ]
  },
  {
   "cell_type": "markdown",
   "metadata": {},
   "source": [
    "## Define your path for saving"
   ]
  },
  {
   "cell_type": "code",
   "execution_count": 63,
   "metadata": {},
   "outputs": [],
   "source": [
    "imPath = \"test/reflect/image\" \n",
    "xmlPath = \"test/reflect/xml\""
   ]
  },
  {
   "cell_type": "markdown",
   "metadata": {},
   "source": [
    "## Define your classes"
   ]
  },
  {
   "cell_type": "code",
   "execution_count": 64,
   "metadata": {},
   "outputs": [],
   "source": [
    "classes = [\"coating_particle\", \"mask\", \"transport_particle\"]"
   ]
  },
  {
   "cell_type": "markdown",
   "metadata": {},
   "source": [
    "## Read your image set"
   ]
  },
  {
   "cell_type": "code",
   "execution_count": 65,
   "metadata": {},
   "outputs": [],
   "source": [
    "path = \"C:/Users/2007058/Desktop/M2_Residue/JPEGImages\"\n",
    "imageList = os.listdir(path)\n",
    "images = []\n",
    "for image in imageList:\n",
    "    img = cv2.imread(os.path.join(path,image))\n",
    "    images.append(img)"
   ]
  },
  {
   "cell_type": "markdown",
   "metadata": {},
   "source": [
    "### Take a look"
   ]
  },
  {
   "cell_type": "code",
   "execution_count": 19,
   "metadata": {},
   "outputs": [],
   "source": [
    "#plt.imshow(np.squeeze(images[105][:,:,::-1]))"
   ]
  },
  {
   "cell_type": "markdown",
   "metadata": {},
   "source": [
    "## Read your xml set"
   ]
  },
  {
   "cell_type": "code",
   "execution_count": 67,
   "metadata": {},
   "outputs": [],
   "source": [
    "path = \"C:/Users/2007058/Desktop/M2_Residue/Annotations\"\n",
    "xmlList = os.listdir(path)\n",
    "xmls = []\n",
    "for xml in xmlList:\n",
    "    in_file = open(path + '/' + xml, encoding='utf-8')\n",
    "    tree = ET.parse(in_file)\n",
    "    xmls.append(tree)"
   ]
  },
  {
   "cell_type": "markdown",
   "metadata": {},
   "source": [
    "## Define your saveName"
   ]
  },
  {
   "cell_type": "code",
   "execution_count": 68,
   "metadata": {},
   "outputs": [],
   "source": [
    "saveName = []\n",
    "for name in xmlList:\n",
    "    temp = name.split('.')[0]\n",
    "    saveName.append(temp)"
   ]
  },
  {
   "cell_type": "code",
   "execution_count": 69,
   "metadata": {},
   "outputs": [
    {
     "data": {
      "text/plain": [
       "['0001', '0002', '0003', '0004', '0005']"
      ]
     },
     "execution_count": 69,
     "metadata": {},
     "output_type": "execute_result"
    }
   ],
   "source": [
    "saveName[:5]"
   ]
  },
  {
   "cell_type": "code",
   "execution_count": 70,
   "metadata": {},
   "outputs": [],
   "source": [
    "myAugmented = Augmentation(images, xmls, classes, saveName, imPath, xmlPath)"
   ]
  },
  {
   "cell_type": "markdown",
   "metadata": {},
   "source": [
    "# Reflect"
   ]
  },
  {
   "cell_type": "code",
   "execution_count": 71,
   "metadata": {},
   "outputs": [],
   "source": [
    "myAugmented.reflect(dim = 1)"
   ]
  },
  {
   "cell_type": "markdown",
   "metadata": {},
   "source": [
    "# Plot the result"
   ]
  },
  {
   "cell_type": "code",
   "execution_count": 72,
   "metadata": {},
   "outputs": [],
   "source": [
    "res = cv2.imread('test/reflect/image/0106.jpg')\n",
    "orig = cv2.imread('C:/Users/2007058/Desktop/M2_Residue/JPEGImages/0106.jpg')"
   ]
  },
  {
   "cell_type": "markdown",
   "metadata": {},
   "source": [
    "f = plt.figure(figsize=(15,15))\n",
    "ax = f.add_subplot(121)\n",
    "ax2 = f.add_subplot(122)\n",
    "ax.imshow(orig[:,:,::-1])\n",
    "ax.title.set_text(\"Original\")\n",
    "ax2.imshow(res[:,:,::-1])\n",
    "ax2.title.set_text(\"Reflected along y axis\")"
   ]
  },
  {
   "cell_type": "markdown",
   "metadata": {},
   "source": [
    "# Plot the bounding box on images"
   ]
  },
  {
   "cell_type": "code",
   "execution_count": 75,
   "metadata": {},
   "outputs": [],
   "source": [
    "res_xml = 'test/reflect/xml/0106.xml'\n",
    "orig_xml = \"C:/Users/2007058/Desktop/M2_Residue/Annotations/0106.xml\""
   ]
  },
  {
   "cell_type": "code",
   "execution_count": 80,
   "metadata": {},
   "outputs": [],
   "source": [
    "res_box = drawBox(res, res_xml)\n",
    "orig_box = drawBox(orig, orig_xml)"
   ]
  },
  {
   "cell_type": "markdown",
   "metadata": {},
   "source": [
    "f = plt.figure(figsize=(15,15))\n",
    "ax = f.add_subplot(121)\n",
    "ax2 = f.add_subplot(122)\n",
    "ax.imshow(orig_box[:,:,::-1])\n",
    "ax.title.set_text(\"Original\")\n",
    "ax2.imshow(res_box[:,:,::-1])\n",
    "ax2.title.set_text(\"Reflected along y axis\")"
   ]
  },
  {
   "cell_type": "code",
   "execution_count": 82,
   "metadata": {},
   "outputs": [],
   "source": [
    "res2 = cv2.imread('test/reflect/image/0008.jpg')\n",
    "orig2 = cv2.imread('C:/Users/2007058/Desktop/M2_Residue/JPEGImages/0008.jpg')\n",
    "res_xml2 = 'test/reflect/xml/0008.xml'\n",
    "orig_xml2 = \"C:/Users/2007058/Desktop/M2_Residue/Annotations/0008.xml\""
   ]
  },
  {
   "cell_type": "code",
   "execution_count": 83,
   "metadata": {},
   "outputs": [],
   "source": [
    "res_box2 = drawBox(res2, res_xml2)\n",
    "orig_box2 = drawBox(orig2, orig_xml2)"
   ]
  },
  {
   "cell_type": "markdown",
   "metadata": {},
   "source": [
    "f = plt.figure(figsize=(15,15))\n",
    "ax = f.add_subplot(121)\n",
    "ax2 = f.add_subplot(122)\n",
    "ax.imshow(orig_box2[:,:,::-1])\n",
    "ax.title.set_text(\"Original\")\n",
    "ax2.imshow(res_box2[:,:,::-1])\n",
    "ax2.title.set_text(\"Reflected along y axis\")"
   ]
  },
  {
   "cell_type": "markdown",
   "metadata": {},
   "source": [
    "# Tutorial - translate"
   ]
  },
  {
   "cell_type": "code",
   "execution_count": 2,
   "metadata": {},
   "outputs": [],
   "source": [
    "imPath = \"test/translate/image\" \n",
    "xmlPath = \"test/translate/xml\""
   ]
  },
  {
   "cell_type": "code",
   "execution_count": 3,
   "metadata": {},
   "outputs": [],
   "source": [
    "classes = [\"coating_particle\", \"mask\", \"transport_particle\"]"
   ]
  },
  {
   "cell_type": "code",
   "execution_count": 4,
   "metadata": {},
   "outputs": [],
   "source": [
    "path = \"C:/Users/2007058/Desktop/M2_Residue/JPEGImages\"\n",
    "imageList = os.listdir(path)\n",
    "images = []\n",
    "for image in imageList:\n",
    "    img = cv2.imread(os.path.join(path,image))\n",
    "    images.append(img)"
   ]
  },
  {
   "cell_type": "code",
   "execution_count": 5,
   "metadata": {},
   "outputs": [],
   "source": [
    "path = \"C:/Users/2007058/Desktop/M2_Residue/Annotations\"\n",
    "xmlList = os.listdir(path)\n",
    "xmls = []\n",
    "for xml in xmlList:\n",
    "    in_file = open(path + '/' + xml, encoding='utf-8')\n",
    "    tree = ET.parse(in_file)\n",
    "    xmls.append(tree)"
   ]
  },
  {
   "cell_type": "code",
   "execution_count": 6,
   "metadata": {},
   "outputs": [],
   "source": [
    "saveName = []\n",
    "for name in xmlList:\n",
    "    temp = name.split('.')[0]\n",
    "    saveName.append(temp)"
   ]
  },
  {
   "cell_type": "code",
   "execution_count": 7,
   "metadata": {},
   "outputs": [],
   "source": [
    "myAugmented = Augmentation(images, xmls, classes, saveName, imPath, xmlPath)"
   ]
  },
  {
   "cell_type": "code",
   "execution_count": 8,
   "metadata": {},
   "outputs": [],
   "source": [
    "myAugmented.translate(50, 100)"
   ]
  },
  {
   "cell_type": "code",
   "execution_count": 9,
   "metadata": {},
   "outputs": [],
   "source": [
    "res = cv2.imread('test/translate/image/0106.jpg')\n",
    "orig = cv2.imread('C:/Users/2007058/Desktop/M2_Residue/JPEGImages/0106.jpg')"
   ]
  },
  {
   "cell_type": "markdown",
   "metadata": {},
   "source": [
    "f = plt.figure(figsize=(15,15))\n",
    "ax = f.add_subplot(121)\n",
    "ax2 = f.add_subplot(122)\n",
    "ax.imshow(orig[:,:,::-1])\n",
    "ax.title.set_text(\"Original\")\n",
    "ax2.imshow(res[:,:,::-1])\n",
    "ax2.title.set_text(\"translate with (x, y) = (50, 100)\")"
   ]
  },
  {
   "cell_type": "code",
   "execution_count": 11,
   "metadata": {},
   "outputs": [],
   "source": [
    "res_xml = 'test/translate/xml/0106.xml'\n",
    "orig_xml = \"C:/Users/2007058/Desktop/M2_Residue/Annotations/0106.xml\""
   ]
  },
  {
   "cell_type": "code",
   "execution_count": 14,
   "metadata": {},
   "outputs": [],
   "source": [
    "res_box = drawBox(res, res_xml)\n",
    "orig_box = drawBox(orig, orig_xml)"
   ]
  },
  {
   "cell_type": "markdown",
   "metadata": {},
   "source": [
    "f = plt.figure(figsize=(15,15))\n",
    "ax = f.add_subplot(121)\n",
    "ax2 = f.add_subplot(122)\n",
    "ax.imshow(orig_box[:,:,::-1])\n",
    "ax.title.set_text(\"Original\")\n",
    "ax2.imshow(res_box[:,:,::-1])\n",
    "ax2.title.set_text(\"translate with (x, y) = (50, 100)\")"
   ]
  },
  {
   "cell_type": "code",
   "execution_count": 16,
   "metadata": {},
   "outputs": [],
   "source": [
    "res2 = cv2.imread('test/translate/image/0008.jpg')\n",
    "orig2 = cv2.imread('C:/Users/2007058/Desktop/M2_Residue/JPEGImages/0008.jpg')\n",
    "res_xml2 = 'test/translate/xml/0008.xml'\n",
    "orig_xml2 = \"C:/Users/2007058/Desktop/M2_Residue/Annotations/0008.xml\""
   ]
  },
  {
   "cell_type": "code",
   "execution_count": 17,
   "metadata": {},
   "outputs": [],
   "source": [
    "res_box2 = drawBox(res2, res_xml2)\n",
    "orig_box2 = drawBox(orig2, orig_xml2)"
   ]
  },
  {
   "cell_type": "markdown",
   "metadata": {},
   "source": [
    "f = plt.figure(figsize=(15,15))\n",
    "ax = f.add_subplot(121)\n",
    "ax2 = f.add_subplot(122)\n",
    "ax.imshow(orig_box2[:,:,::-1])\n",
    "ax.title.set_text(\"Original\")\n",
    "ax2.imshow(res_box2[:,:,::-1])\n",
    "ax2.title.set_text(\"translate with (x, y) = (50, 100)\")"
   ]
  },
  {
   "cell_type": "code",
   "execution_count": null,
   "metadata": {},
   "outputs": [],
   "source": []
  }
 ],
 "metadata": {
  "celltoolbar": "Raw Cell Format",
  "kernelspec": {
   "display_name": "Python 3",
   "language": "python",
   "name": "python3"
  },
  "language_info": {
   "codemirror_mode": {
    "name": "ipython",
    "version": 3
   },
   "file_extension": ".py",
   "mimetype": "text/x-python",
   "name": "python",
   "nbconvert_exporter": "python",
   "pygments_lexer": "ipython3",
   "version": "3.6.5"
  }
 },
 "nbformat": 4,
 "nbformat_minor": 2
}
